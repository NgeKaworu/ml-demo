{
 "cells": [
  {
   "cell_type": "code",
   "execution_count": 2,
   "metadata": {},
   "outputs": [],
   "source": [
    "from zhkeybert import KeyBERT, extract_kws_zh\n",
    "from sklearn.feature_extraction.text import CountVectorizer\n",
    "import jieba\n",
    "\n",
    "def tokenize_zh(text):\n",
    "    words = jieba.lcut(text)\n",
    "    return words\n",
    "\n",
    "vectorizer = CountVectorizer(tokenizer=tokenize_zh)"
   ]
  },
  {
   "cell_type": "code",
   "execution_count": 4,
   "metadata": {},
   "outputs": [
    {
     "name": "stderr",
     "output_type": "stream",
     "text": [
      "/usr/local/lib/python3.11/dist-packages/sklearn/feature_extraction/text.py:525: UserWarning: The parameter 'token_pattern' will not be used since 'tokenizer' is not None'\n",
      "  warnings.warn(\n"
     ]
    },
    {
     "data": {
      "text/plain": [
       "[('非空', 0.6514),\n",
       " ('空表', 0.6161),\n",
       " ('称之为', 0.5577),\n",
       " ('进行', 0.4568),\n",
       " ('的', 0.451),\n",
       " ('之前', 0.4504),\n",
       " ('第一个', 0.4482),\n",
       " ('所有', 0.4331),\n",
       " ('一个', 0.4048),\n",
       " ('一致', 0.4048),\n",
       " ('从而', 0.3488),\n",
       " ('指针', 0.3488),\n",
       " ('插入', 0.3488),\n",
       " ('作用', 0.3488),\n",
       " ('单链', 0.3488)]"
      ]
     },
     "execution_count": 4,
     "metadata": {},
     "output_type": "execute_result"
    }
   ],
   "source": [
    "from keybert import KeyBERT\n",
    "doc =  \"\"\"\n",
    "在单链表的第一个结点之前附设一个结点，称之为头结点。头结点的作用是使所有链表（包括空表）的头指针非空，并使对单链表的插入、删除操作不需要区分是否为空表或是否在第一个位置进行，从而与其他位置的插入、删除操作一致。\n",
    "\"\"\"\n",
    "\n",
    "kw_model = KeyBERT()\n",
    "keywords = kw_model.extract_keywords(doc, vectorizer=vectorizer, top_n=15)\n",
    "keywords"
   ]
  },
  {
   "cell_type": "code",
   "execution_count": 3,
   "metadata": {},
   "outputs": [
    {
     "name": "stderr",
     "output_type": "stream",
     "text": [
      "Building prefix dict from the default dictionary ...\n",
      "Dumping model to file cache /tmp/jieba.cache\n",
      "Loading model cost 0.581 seconds.\n",
      "Prefix dict has been built successfully.\n"
     ]
    },
    {
     "data": {
      "text/plain": [
       "[('链表包括空表', 0.6877),\n",
       " ('附设一个结点', 0.5604),\n",
       " ('在单链表', 0.6044),\n",
       " ('链表包括', 0.6099),\n",
       " ('链表', 0.6055)]"
      ]
     },
     "execution_count": 3,
     "metadata": {},
     "output_type": "execute_result"
    }
   ],
   "source": [
    "doc =  \"\"\"\n",
    "在单链表的第一个结点之前附设一个结点，称之为头结点。头结点的作用是使所有链表（包括空表）的头指针非空，并使对单链表的插入、删除操作不需要区分是否为空表或是否在第一个位置进行，从而与其他位置的插入、删除操作一致。\n",
    "\"\"\"\n",
    "\n",
    "kw_model = KeyBERT()\n",
    "keywords = extract_kws_zh(doc, kw_model)\n",
    "keywords"
   ]
  },
  {
   "cell_type": "code",
   "execution_count": 4,
   "metadata": {},
   "outputs": [
    {
     "data": {
      "text/plain": [
       "[('链表包括空表', 0.6877),\n",
       " ('附设一个结点', 0.5604),\n",
       " ('在单链表', 0.6044),\n",
       " ('链表包括', 0.6099),\n",
       " ('链表', 0.6055)]"
      ]
     },
     "execution_count": 4,
     "metadata": {},
     "output_type": "execute_result"
    }
   ],
   "source": [
    "doc =  \"\"\"\n",
    "在单链表的第一个结点之前附设一个结点，称之为头结点。头结点的作用是使所有链表（包括空表）的头指针非空，并使对单链表的插入、删除操作不需要区分是否为空表或是否在第一个位置进行，从而与其他位置的插入、删除操作一致。\n",
    "\"\"\"\n",
    "\n",
    "kw_model = KeyBERT(model='paraphrase-multilingual-MiniLM-L12-v2')\n",
    "keywords = extract_kws_zh(doc, kw_model)\n",
    "keywords"
   ]
  },
  {
   "cell_type": "code",
   "execution_count": 3,
   "metadata": {},
   "outputs": [
    {
     "name": "stderr",
     "output_type": "stream",
     "text": [
      "Building prefix dict from the default dictionary ...\n",
      "Loading model from cache /tmp/jieba.cache\n",
      "Loading model cost 0.754 seconds.\n",
      "Prefix dict has been built successfully.\n"
     ]
    },
    {
     "data": {
      "text/plain": [
       "[('影响供给', 0.7717),\n",
       " ('生产者对价格', 0.7308),\n",
       " ('价格的期望', 0.6985),\n",
       " ('供给的因素', 0.7604),\n",
       " ('生产成本3替代品', 0.6576)]"
      ]
     },
     "execution_count": 3,
     "metadata": {},
     "output_type": "execute_result"
    }
   ],
   "source": [
    "doc =  \"\"\"\n",
    "影响供给的因素\n",
    "1 商品的价格\n",
    "2 生产成本\n",
    "3 替代品的价格\n",
    "4 生产者对价格的期望\n",
    "\"\"\"\n",
    "\n",
    "kw_model = KeyBERT()\n",
    "keywords = extract_kws_zh(doc, kw_model)\n",
    "keywords"
   ]
  },
  {
   "cell_type": "code",
   "execution_count": 8,
   "metadata": {},
   "outputs": [
    {
     "name": "stderr",
     "output_type": "stream",
     "text": [
      "/usr/local/lib/python3.11/dist-packages/sklearn/feature_extraction/text.py:525: UserWarning: The parameter 'token_pattern' will not be used since 'tokenizer' is not None'\n",
      "  warnings.warn(\n"
     ]
    },
    {
     "data": {
      "text/plain": [
       "[('生产成本', 0.6763),\n",
       " ('生产者', 0.6355),\n",
       " ('替代品', 0.4348),\n",
       " ('的', 0.3923),\n",
       " ('价格', 0.2832)]"
      ]
     },
     "execution_count": 8,
     "metadata": {},
     "output_type": "execute_result"
    }
   ],
   "source": [
    "from keybert import KeyBERT\n",
    "\n",
    "doc =  \"\"\"\n",
    "影响供给的因素\n",
    "1 商品的价格\n",
    "2 生产成本\n",
    "3 替代品的价格\n",
    "4 生产者对价格的期望\n",
    "\"\"\"\n",
    "\n",
    "kw_model = KeyBERT()\n",
    "keywords = kw_model.extract_keywords(doc, vectorizer=vectorizer)\n",
    "keywords"
   ]
  },
  {
   "cell_type": "code",
   "execution_count": 4,
   "metadata": {},
   "outputs": [
    {
     "data": {
      "text/plain": [
       "[('机制指运动', 0.7276),\n",
       " ('内部机制指', 0.6611),\n",
       " ('运动生理学所指', 0.6433),\n",
       " ('机制往往交互', 0.6295),\n",
       " ('神经类型气质类型运动', 0.5921)]"
      ]
     },
     "execution_count": 4,
     "metadata": {},
     "output_type": "execute_result"
    }
   ],
   "source": [
    "doc =  \"\"\"\n",
    "（一）处理好合理的内部机制与正确的外部形态的关系\n",
    "\n",
    "1.合理的内部机制指运动技术必须符合运动解剖学运动生理学所指名的神经肌肉工作原理。\n",
    "2.与此同时，运动技术还应具备有正确的外部形态，其意义从以下几个方面表现出来：\n",
    "第一，外部形态和内部机制往往交互影响\n",
    "\n",
    "技术动作一开始就具有正确的外部形态，对技术进一步完善，技能进一步形成具有很大意义。\n",
    "此外，技术具有正确的外部形态，会加快肌肉协调能力及动作力量、速度、耐力等方面的发展。\n",
    "第二，对于技术的外部形态，我们常用运动生物力学的方法进行描述\n",
    "\n",
    "第三，“技术美”在很大程度上是通过外部心态来体现的\n",
    "\n",
    "第四，体育院校的学生在进行训练时，更应注意正确的外部形态\n",
    "\n",
    "（二）抓好技术风格的培养\n",
    "\n",
    "1.所谓技术风格，是指某运动员或运动队的技术系统，区别于其他运动员或运动队的技术系统的、较为成熟的定型化了的、经常表现出来的特征。\n",
    "2.某一技术系统区别于另一技术系统的特征，可以从以下两方面表现出来：\n",
    "第一，系统构成元素不同。\n",
    "第二，技术结构不同。\n",
    "（三）影响技术风格的因素\n",
    "\n",
    "1.特长技术\n",
    "\n",
    "特长越显著，风格越突出。\n",
    "2.运动员的神经类型（气质类型）\n",
    "\n",
    "运动心理学研究表明，一定的气质类型适合于一定的技术风格。\n",
    "3.种族特征\n",
    "\n",
    "从人类学的角度看，种族特征对技术风格的影响也是较为明显的。\n",
    "\"\"\"\n",
    "\n",
    "kw_model = KeyBERT()\n",
    "keywords = extract_kws_zh(doc, kw_model)\n",
    "keywords"
   ]
  },
  {
   "cell_type": "code",
   "execution_count": 6,
   "metadata": {},
   "outputs": [
    {
     "name": "stderr",
     "output_type": "stream",
     "text": [
      "/usr/local/lib/python3.11/dist-packages/sklearn/feature_extraction/text.py:525: UserWarning: The parameter 'token_pattern' will not be used since 'tokenizer' is not None'\n",
      "  warnings.warn(\n"
     ]
    },
    {
     "data": {
      "text/plain": [
       "[('外部', 0.3629),\n",
       " ('方面', 0.2766),\n",
       " ('内部', 0.2691),\n",
       " ('神经类型', 0.2647),\n",
       " ('生物力学', 0.2637),\n",
       " ('心理学', 0.2623),\n",
       " ('解剖学', 0.2541),\n",
       " ('方法', 0.2523),\n",
       " ('此外', 0.2359),\n",
       " ('神经', 0.234),\n",
       " ('进行', 0.2304),\n",
       " ('生理学', 0.2254),\n",
       " ('力量', 0.2247),\n",
       " ('成熟', 0.2229),\n",
       " ('能力', 0.2166),\n",
       " ('耐力', 0.2166),\n",
       " ('形成', 0.2149),\n",
       " ('构成', 0.2149),\n",
       " ('合理', 0.2064),\n",
       " ('三', 0.2033)]"
      ]
     },
     "execution_count": 6,
     "metadata": {},
     "output_type": "execute_result"
    }
   ],
   "source": [
    "from keybert import KeyBERT\n",
    "\n",
    "doc =  \"\"\"\n",
    "（一）处理好合理的内部机制与正确的外部形态的关系\n",
    "\n",
    "1.合理的内部机制指运动技术必须符合运动解剖学运动生理学所指名的神经肌肉工作原理。\n",
    "2.与此同时，运动技术还应具备有正确的外部形态，其意义从以下几个方面表现出来：\n",
    "第一，外部形态和内部机制往往交互影响\n",
    "\n",
    "技术动作一开始就具有正确的外部形态，对技术进一步完善，技能进一步形成具有很大意义。\n",
    "此外，技术具有正确的外部形态，会加快肌肉协调能力及动作力量、速度、耐力等方面的发展。\n",
    "第二，对于技术的外部形态，我们常用运动生物力学的方法进行描述\n",
    "\n",
    "第三，“技术美”在很大程度上是通过外部心态来体现的\n",
    "\n",
    "第四，体育院校的学生在进行训练时，更应注意正确的外部形态\n",
    "\n",
    "（二）抓好技术风格的培养\n",
    "\n",
    "1.所谓技术风格，是指某运动员或运动队的技术系统，区别于其他运动员或运动队的技术系统的、较为成熟的定型化了的、经常表现出来的特征。\n",
    "2.某一技术系统区别于另一技术系统的特征，可以从以下两方面表现出来：\n",
    "第一，系统构成元素不同。\n",
    "第二，技术结构不同。\n",
    "（三）影响技术风格的因素\n",
    "\n",
    "1.特长技术\n",
    "\n",
    "特长越显著，风格越突出。\n",
    "2.运动员的神经类型（气质类型）\n",
    "\n",
    "运动心理学研究表明，一定的气质类型适合于一定的技术风格。\n",
    "3.种族特征\n",
    "\n",
    "从人类学的角度看，种族特征对技术风格的影响也是较为明显的。\n",
    "\"\"\"\n",
    "\n",
    "kw_model = KeyBERT()\n",
    "keywords = kw_model.extract_keywords(doc, vectorizer=vectorizer, top_n=20)\n",
    "keywords"
   ]
  }
 ],
 "metadata": {
  "kernelspec": {
   "display_name": "Python 3",
   "language": "python",
   "name": "python3"
  },
  "language_info": {
   "codemirror_mode": {
    "name": "ipython",
    "version": 3
   },
   "file_extension": ".py",
   "mimetype": "text/x-python",
   "name": "python",
   "nbconvert_exporter": "python",
   "pygments_lexer": "ipython3",
   "version": "3.11.0rc1"
  }
 },
 "nbformat": 4,
 "nbformat_minor": 2
}
