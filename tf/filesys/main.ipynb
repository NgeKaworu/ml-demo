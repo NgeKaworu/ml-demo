{
 "cells": [
  {
   "cell_type": "code",
   "execution_count": 70,
   "metadata": {},
   "outputs": [],
   "source": [
    "import datetime\n",
    "import json\n",
    "import os\n",
    "import re\n",
    "\n",
    "# Specify the directory you want to scan\n",
    "directory = '心理舒缓机器人/'\n",
    "ignore = ['.DS_Store']\n",
    "root = '/sdcard/mind_audio/'\n",
    "\n",
    "# Define a function to extract the number from the file name\n",
    "\n",
    "\n",
    "def extract_number(filename):\n",
    "    match = re.search(r'^(\\d+)', filename)\n",
    "    return int(match.group(1)) if match else float('inf')\n",
    "\n",
    "\n",
    "id = 0\n",
    "\n",
    "\n",
    "def traversal_dir(dir, pid):\n",
    "    global id\n",
    "    ret = []\n",
    "    # Use os.listdir to get all files in the directory\n",
    "    l = os.listdir(dir)\n",
    "    l = [item for item in l if item not in ignore]\n",
    "    # Sort the list by the number in the file name\n",
    "    l = sorted(l, key=extract_number)\n",
    "    now = datetime.datetime.now()\n",
    "    for i in l:\n",
    "        id += 1\n",
    "        cur_dir = os.path.join(dir, i)\n",
    "        isDir = os.path.isdir(cur_dir)\n",
    "\n",
    "        ret.append({\n",
    "            \"developer_id\": None,  # 企业 id\n",
    "            \"id\": id,  # id\n",
    "            \"pid\": pid,  # 父级id\n",
    "            \"fullPath\": cur_dir,  # 全路径\n",
    "            \"isDir\": 1 if isDir else 0,  # 是否是目录 1: 目录 0: 文件\n",
    "            \"name\": i,  # 文件（夹）名\n",
    "            \"url\": os.path.join(root, cur_dir),  # 文件url\n",
    "            \"usedCount\": 0,  # 播放次数\n",
    "            \"description\": \"\",  # 文件（夹）描述\n",
    "            \"created_time\": now.strftime(\"%Y/%m/%d %H:%M:%S\"),  # 创建时间\n",
    "            \"last_modified_time\": now.strftime(\"%Y/%m/%d %H:%M:%S\")  # 更新时间\n",
    "        })\n",
    "\n",
    "        if (isDir):\n",
    "            ret.extend(traversal_dir(cur_dir, id))\n",
    "\n",
    "    return ret\n",
    "\n",
    "\n",
    "data = traversal_dir(directory, id)\n",
    "\n",
    "# Write the dictionary to a JSON file\n",
    "with open('files.json', 'w', encoding='utf-8') as f:\n",
    "    json.dump(data, f, ensure_ascii=False, indent=4)"
   ]
  },
  {
   "cell_type": "code",
   "execution_count": 29,
   "metadata": {},
   "outputs": [
    {
     "name": "stdout",
     "output_type": "stream",
     "text": [
      "dirpath ./心理舒缓机器人\n",
      "dirnames ['3.音乐冥想法', '2.爱的信息', '1.21天冥想舒缓法']\n",
      "filenames ['.DS_Store']\n",
      "dirpath ./心理舒缓机器人/3.音乐冥想法\n",
      "dirnames []\n",
      "filenames ['音乐冥想法.mp4']\n",
      "dirpath ./心理舒缓机器人/2.爱的信息\n",
      "dirnames []\n",
      "filenames ['1与肢体的亲密接触 .mp3', '3你是自己的人生参照物.mp3', '2思维的力量 .mp3']\n",
      "dirpath ./心理舒缓机器人/1.21天冥想舒缓法\n",
      "dirnames []\n",
      "filenames ['13第十三天.mp3', '3第三天.mp3', '20第二十天.mp3', '8第八天.mp3', '7第七天.mp3', '12第十二天.mp3', '16第十六天.mp3', '6第六天.mp3', '5第五天.mp3', '2第二天.mp3', '15第十五天.mp3', '10第十天.mp3', '17第十七天.mp3', '4第四天.mp3', '18第十八天.mp3', '1第一天.mp3', '9第九天.mp3', '19第十九天.mp3', '14第十四天.mp3', '11第十一天.mp3', '21第二十一天.mp3']\n"
     ]
    }
   ],
   "source": [
    "import os\n",
    "\n",
    "# Specify the directory you want to scan\n",
    "directory = './心理舒缓机器人'\n",
    "ignore = ['.DS_Store']\n",
    "\n",
    "# Use os.walk to get all files in the directory and subdirectories\n",
    "file_names = []\n",
    "for dirpath, dirnames, filenames in os.walk(directory):\n",
    "    print('dirpath', dirpath)\n",
    "    print('dirnames', dirnames)\n",
    "    print('filenames', filenames)\n",
    "\n",
    "# Print all file names"
   ]
  },
  {
   "cell_type": "code",
   "execution_count": 5,
   "metadata": {},
   "outputs": [
    {
     "data": {
      "text/plain": [
       "{'id': 'STS.NTCh9dLqxvbV2mWErDyeLHiEy',\n",
       " 'secret': '793b2LNRtiHJ4o3igRhs3bF2qJqPzwhTTMGiDVfmqr5o',\n",
       " 'time': '1702969351186',\n",
       " 'token': 'CAIS7gF1q6Ft5B2yfSjIr5f2I4PQoa5ZwaC9MEvmoXIRdepgp6zumzz2IHxOdHNtAe0et/g/mGxT5voflq5oRoReREvCNVqMYnT3qFHPWZHInuDox55m4cTXNAr+Ihr/29CoEIedZdjBe/CrRknZnytou9XTfimjWFrXWv/gy+QQDLItUxK/cCBNCfpPOwJms7V6D3bKMuu3OROY6Qi5TmgQ41Ql1DMhsfznkp3Cs0qP1GeXkLFF+97DRbG/dNRpMZtFVNO44fd7bKKp0lQLt0Iarvou0fQdpWeb4orNXwRLgxOMKePR9cZ0PKWQ2Q6JwCkuGoABU+eocgEPklUOrKPgW8y4cRxfz5a9XzyfyKkdL1qNaqFBh/GATAe0ug4M0QRYhM+jV3EdYXRbqke/t/6RQWeJVLIsaalb+d4ddqWvkabtBztaWoSFK/pp5VavPUZGl1N/Z8WdDNUlzdm8fZ2JXFjrWgDnjQ180yQgeWUjCJvHquAgAA=='}"
      ]
     },
     "execution_count": 5,
     "metadata": {},
     "output_type": "execute_result"
    }
   ],
   "source": [
    "import requests\n",
    "import json\n",
    "\n",
    "headers = {\n",
    "    'Accept': 'application/json',\n",
    "    'Content-Type': 'application/json',\n",
    "    \"Authorization\": \"DEE3B62FBCC74783911E532B7413A4FE\",\n",
    "    \"Platform\": \"NEW_WORK\"\n",
    "}\n",
    "\n",
    "response = requests.get('https://test-api.newbest.com.cn/managent/plat/files/get/oss/secret', headers=headers)\n",
    "\n",
    "data = json.loads(response.text)\n",
    "\n",
    "data"
   ]
  },
  {
   "cell_type": "code",
   "execution_count": 15,
   "metadata": {},
   "outputs": [
    {
     "name": "stdout",
     "output_type": "stream",
     "text": [
      "1\n",
      "1\n",
      "1\n",
      "1\n",
      "1\n",
      "1\n",
      "1\n",
      "1\n",
      "1\n",
      "1\n",
      "1\n",
      "1\n",
      "1\n",
      "1\n",
      "1\n",
      "1\n",
      "1\n",
      "1\n",
      "1\n",
      "1\n",
      "1\n",
      "1\n",
      "1\n",
      "1\n",
      "1\n",
      "1\n",
      "1\n",
      "1\n"
     ]
    }
   ],
   "source": [
    "import json\n",
    "import requests\n",
    "\n",
    "headers = {\n",
    "    'Accept': 'application/json',\n",
    "    'Content-Type': 'application/json',\n",
    "    \"Authorization\": \"DEE3B62FBCC74783911E532B7413A4FE\",\n",
    "    \"Platform\": \"NEW_WORK\"\n",
    "}\n",
    "\n",
    "# Open the JSON file\n",
    "with open('./files_remote.json', 'r') as f:\n",
    "    # Load the JSON data\n",
    "    data = json.load(f)\n",
    "\n",
    "for item in data:\n",
    "    response = requests.post(\n",
    "        'http://test-api.newbest.com.cn:9095/robot/psychologyFile/add',\n",
    "        headers=headers,\n",
    "        data=json.dumps(item)\n",
    "    )\n",
    "    print(response.text)\n",
    "\n",
    "# Now you can work with `data` as a Python object\n",
    "# for item in data:"
   ]
  }
 ],
 "metadata": {
  "kernelspec": {
   "display_name": "Python 3",
   "language": "python",
   "name": "python3"
  },
  "language_info": {
   "codemirror_mode": {
    "name": "ipython",
    "version": 3
   },
   "file_extension": ".py",
   "mimetype": "text/x-python",
   "name": "python",
   "nbconvert_exporter": "python",
   "pygments_lexer": "ipython3",
   "version": "3.11.0rc1"
  }
 },
 "nbformat": 4,
 "nbformat_minor": 2
}
