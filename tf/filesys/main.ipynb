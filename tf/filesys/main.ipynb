{
 "cells": [
  {
   "cell_type": "code",
   "execution_count": 70,
   "metadata": {},
   "outputs": [],
   "source": [
    "import datetime\n",
    "import json\n",
    "import os\n",
    "import re\n",
    "\n",
    "# Specify the directory you want to scan\n",
    "directory = '心理舒缓机器人/'\n",
    "ignore = ['.DS_Store']\n",
    "root = '/sdcard/mind_audio/'\n",
    "\n",
    "# Define a function to extract the number from the file name\n",
    "\n",
    "\n",
    "def extract_number(filename):\n",
    "    match = re.search(r'^(\\d+)', filename)\n",
    "    return int(match.group(1)) if match else float('inf')\n",
    "\n",
    "\n",
    "id = 0\n",
    "\n",
    "\n",
    "def traversal_dir(dir, pid):\n",
    "    global id\n",
    "    ret = []\n",
    "    # Use os.listdir to get all files in the directory\n",
    "    l = os.listdir(dir)\n",
    "    l = [item for item in l if item not in ignore]\n",
    "    # Sort the list by the number in the file name\n",
    "    l = sorted(l, key=extract_number)\n",
    "    now = datetime.datetime.now()\n",
    "    for i in l:\n",
    "        id += 1\n",
    "        cur_dir = os.path.join(dir, i)\n",
    "        isDir = os.path.isdir(cur_dir)\n",
    "\n",
    "        ret.append({\n",
    "            \"developer_id\": None,  # 企业 id\n",
    "            \"id\": id,  # id\n",
    "            \"pid\": pid,  # 父级id\n",
    "            \"fullPath\": cur_dir,  # 全路径\n",
    "            \"isDir\": 1 if isDir else 0,  # 是否是目录 1: 目录 0: 文件\n",
    "            \"name\": i,  # 文件（夹）名\n",
    "            \"url\": os.path.join(root, cur_dir),  # 文件url\n",
    "            \"usedCount\": 0,  # 播放次数\n",
    "            \"description\": \"\",  # 文件（夹）描述\n",
    "            \"created_time\": now.strftime(\"%Y/%m/%d %H:%M:%S\"),  # 创建时间\n",
    "            \"last_modified_time\": now.strftime(\"%Y/%m/%d %H:%M:%S\")  # 更新时间\n",
    "        })\n",
    "\n",
    "        if (isDir):\n",
    "            ret.extend(traversal_dir(cur_dir, id))\n",
    "\n",
    "    return ret\n",
    "\n",
    "\n",
    "data = traversal_dir(directory, id)\n",
    "\n",
    "# Write the dictionary to a JSON file\n",
    "with open('files.json', 'w', encoding='utf-8') as f:\n",
    "    json.dump(data, f, ensure_ascii=False, indent=4)"
   ]
  },
  {
   "cell_type": "code",
   "execution_count": 29,
   "metadata": {},
   "outputs": [
    {
     "name": "stdout",
     "output_type": "stream",
     "text": [
      "dirpath ./心理舒缓机器人\n",
      "dirnames ['3.音乐冥想法', '2.爱的信息', '1.21天冥想舒缓法']\n",
      "filenames ['.DS_Store']\n",
      "dirpath ./心理舒缓机器人/3.音乐冥想法\n",
      "dirnames []\n",
      "filenames ['音乐冥想法.mp4']\n",
      "dirpath ./心理舒缓机器人/2.爱的信息\n",
      "dirnames []\n",
      "filenames ['1与肢体的亲密接触 .mp3', '3你是自己的人生参照物.mp3', '2思维的力量 .mp3']\n",
      "dirpath ./心理舒缓机器人/1.21天冥想舒缓法\n",
      "dirnames []\n",
      "filenames ['13第十三天.mp3', '3第三天.mp3', '20第二十天.mp3', '8第八天.mp3', '7第七天.mp3', '12第十二天.mp3', '16第十六天.mp3', '6第六天.mp3', '5第五天.mp3', '2第二天.mp3', '15第十五天.mp3', '10第十天.mp3', '17第十七天.mp3', '4第四天.mp3', '18第十八天.mp3', '1第一天.mp3', '9第九天.mp3', '19第十九天.mp3', '14第十四天.mp3', '11第十一天.mp3', '21第二十一天.mp3']\n"
     ]
    }
   ],
   "source": [
    "import os\n",
    "\n",
    "# Specify the directory you want to scan\n",
    "directory = './心理舒缓机器人'\n",
    "ignore = ['.DS_Store']\n",
    "\n",
    "# Use os.walk to get all files in the directory and subdirectories\n",
    "file_names = []\n",
    "for dirpath, dirnames, filenames in os.walk(directory):\n",
    "    print('dirpath', dirpath)\n",
    "    print('dirnames', dirnames)\n",
    "    print('filenames', filenames)\n",
    "\n",
    "# Print all file names"
   ]
  }
 ],
 "metadata": {
  "kernelspec": {
   "display_name": "Python 3",
   "language": "python",
   "name": "python3"
  },
  "language_info": {
   "codemirror_mode": {
    "name": "ipython",
    "version": 3
   },
   "file_extension": ".py",
   "mimetype": "text/x-python",
   "name": "python",
   "nbconvert_exporter": "python",
   "pygments_lexer": "ipython3",
   "version": "3.11.0rc1"
  }
 },
 "nbformat": 4,
 "nbformat_minor": 2
}
