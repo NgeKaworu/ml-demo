{
 "cells": [
  {
   "cell_type": "code",
   "execution_count": 7,
   "metadata": {},
   "outputs": [
    {
     "data": {
      "text/plain": [
       "3.083932013316979"
      ]
     },
     "execution_count": 7,
     "metadata": {},
     "output_type": "execute_result"
    }
   ],
   "source": [
    "import cv2\n",
    "from os.path import getsize\n",
    "\n",
    "originPath = './000001.jpg'\n",
    "targetPath = './rgba.jpg'\n",
    "\n",
    "orginlen = getsize(originPath)\n",
    "\n",
    "# Read the image with original bit depth\n",
    "img = cv2.imread(originPath, cv2.IMREAD_UNCHANGED)\n",
    "\n",
    "# Convert the image to grayscale\n",
    "# gray = cv2.cvtColor(img, cv2.COLOR_BGR2GRAY)\n",
    "\n",
    "# Save the grayscale image with original bit depth\n",
    "cv2.imwrite(targetPath, img, [cv2.IMWRITE_JPEG_QUALITY, 70])\n",
    "\n",
    "graylen = getsize(targetPath)\n",
    "\n",
    "(orginlen - graylen) / orginlen * 100"
   ]
  },
  {
   "cell_type": "code",
   "execution_count": 12,
   "metadata": {},
   "outputs": [
    {
     "data": {
      "text/plain": [
       "-65.48974943052391"
      ]
     },
     "execution_count": 12,
     "metadata": {},
     "output_type": "execute_result"
    }
   ],
   "source": [
    "import cv2\n",
    "from os.path import getsize\n",
    "\n",
    "originPath = './000001.jpg'\n",
    "targetPath = './gray.jpg'\n",
    "\n",
    "orginlen = getsize(originPath)\n",
    "\n",
    "# Read the image with original bit depth\n",
    "img = cv2.imread(originPath, cv2.IMREAD_UNCHANGED)\n",
    "\n",
    "# Convert the image to grayscale\n",
    "gray = cv2.cvtColor(img, cv2.COLOR_BGR2GRAY)\n",
    "\n",
    "# Save the grayscale image with original bit depth\n",
    "cv2.imwrite(targetPath, gray, [cv2.IMWRITE_JPEG_QUALITY, 70])\n",
    "\n",
    "graylen = getsize(targetPath)\n",
    "\n",
    "(orginlen - graylen) / orginlen * 100"
   ]
  },
  {
   "cell_type": "code",
   "execution_count": 20,
   "metadata": {},
   "outputs": [
    {
     "data": {
      "text/plain": [
       "6.811260029033466"
      ]
     },
     "execution_count": 20,
     "metadata": {},
     "output_type": "execute_result"
    }
   ],
   "source": [
    "import os\n",
    "from os.path import getsize, join\n",
    "\n",
    "\n",
    "def getdirsize(dir):\n",
    "    size = 0\n",
    "    for root, dirs, files in os.walk(dir):\n",
    "        size += sum([getsize(join(root, name)) for name in files])\n",
    "    return size\n",
    "\n",
    "\n",
    "def get_file_count(dir):\n",
    "    return len([name for name in os.listdir(dir) if os.path.isfile(os.path.join(dir, name))])\n",
    "\n",
    "\n",
    "toK = 1024**1\n",
    "toM = 1024**2\n",
    "\n",
    "\n",
    "dirsize = getdirsize('./rgba')\n",
    "dircount = get_file_count('./rgba')\n",
    "\n",
    "avgSize = dirsize / dircount / toK\n",
    "\n",
    "avgSize "
   ]
  },
  {
   "cell_type": "code",
   "execution_count": 6,
   "metadata": {},
   "outputs": [
    {
     "data": {
      "text/plain": [
       "15.51121050856969"
      ]
     },
     "execution_count": 6,
     "metadata": {},
     "output_type": "execute_result"
    }
   ],
   "source": [
    "import cv2\n",
    "from os.path import getsize\n",
    "\n",
    "# plt.imshow(cv2.cvtColor(img, cv2.COLOR_BGR2RGB))\n",
    "originPath = './IMG_4144.png'\n",
    "targetPath = './gray.png'\n",
    "\n",
    "orginlen = getsize(originPath)\n",
    "\n",
    "\n",
    "cv2.imwrite(targetPath,\n",
    "            cv2.imread(originPath, cv2.IMREAD_GRAYSCALE),\n",
    "            [cv2.IMWRITE_PNG_COMPRESSION, 0]\n",
    "            )\n",
    "\n",
    "graylen = getsize(targetPath)\n",
    "\n",
    "(orginlen - graylen) / orginlen * 100"
   ]
  },
  {
   "cell_type": "code",
   "execution_count": 10,
   "metadata": {},
   "outputs": [
    {
     "data": {
      "text/plain": [
       "49.60155478164914"
      ]
     },
     "execution_count": 10,
     "metadata": {},
     "output_type": "execute_result"
    }
   ],
   "source": [
    "import cv2\n",
    "from os.path import getsize\n",
    "\n",
    "# plt.imshow(cv2.cvtColor(img, cv2.COLOR_BGR2RGB))\n",
    "originPath = './IMG_4144.png'\n",
    "targetPath = './gray.jpg'\n",
    "\n",
    "orginlen = getsize(originPath)\n",
    "\n",
    "\n",
    "cv2.imwrite(targetPath,\n",
    "            cv2.imread(originPath, cv2.IMREAD_GRAYSCALE),\n",
    "            [cv2.IMWRITE_JPEG_QUALITY, 100]\n",
    "            )\n",
    "\n",
    "graylen = getsize(targetPath)\n",
    "\n",
    "(orginlen - graylen) / orginlen * 100"
   ]
  },
  {
   "cell_type": "code",
   "execution_count": 49,
   "metadata": {},
   "outputs": [
    {
     "data": {
      "text/plain": [
       "0.20298007300580456"
      ]
     },
     "execution_count": 49,
     "metadata": {},
     "output_type": "execute_result"
    }
   ],
   "source": [
    "from os.path import getsize, join\n",
    "\n",
    "imgray = getsize('./000002.jpg')\n",
    "imrgba = getsize('./000001.jpg')\n",
    "\n",
    "(imrgba-imgray)/imrgba"
   ]
  },
  {
   "cell_type": "code",
   "execution_count": 38,
   "metadata": {},
   "outputs": [
    {
     "data": {
      "text/plain": [
       "True"
      ]
     },
     "execution_count": 38,
     "metadata": {},
     "output_type": "execute_result"
    }
   ],
   "source": [
    "import cv2\n",
    "from matplotlib import pyplot as plt\n",
    "\n",
    "# Load an image in grayscale mode\n",
    "img = cv2.imread('./rgba/000002.jpg')\n",
    "\n",
    "cv2.imwrite('./gray/000002.jpg', img, [cv2.IMWRITE_JPEG_QUALITY, 95])\n",
    "\n"
   ]
  },
  {
   "cell_type": "code",
   "execution_count": null,
   "metadata": {},
   "outputs": [],
   "source": []
  }
 ],
 "metadata": {
  "kernelspec": {
   "display_name": "Python 3",
   "language": "python",
   "name": "python3"
  },
  "language_info": {
   "codemirror_mode": {
    "name": "ipython",
    "version": 3
   },
   "file_extension": ".py",
   "mimetype": "text/x-python",
   "name": "python",
   "nbconvert_exporter": "python",
   "pygments_lexer": "ipython3",
   "version": "3.11.0rc1"
  }
 },
 "nbformat": 4,
 "nbformat_minor": 2
}
