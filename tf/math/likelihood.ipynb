{
 "cells": [
  {
   "cell_type": "code",
   "execution_count": 23,
   "metadata": {},
   "outputs": [
    {
     "name": "stdout",
     "output_type": "stream",
     "text": [
      "0.1 0.9 7.290000000000004e-08\n",
      "0.2 0.8 6.553600000000004e-06\n",
      "0.3 0.7 7.501409999999996e-05\n",
      "0.4 0.6 0.0003538944000000001\n",
      "0.5 0.5 0.0009765625\n",
      "0.6 0.4 0.0017915904\n",
      "0.7 0.3 0.002223566099999999\n",
      "0.8 0.2 0.001677721600000001\n",
      "0.9 0.1 0.0004782969000000002\n"
     ]
    }
   ],
   "source": [
    "import numpy as np\n",
    "\n",
    "p = 0.1\n",
    "for i in range (1, 10):\n",
    "    rp = np.round(i * 0.1, 2)\n",
    "    op = np.round(1 - rp, 2)\n",
    "    print (rp, op,  rp **7 * op**3)\n"
   ]
  },
  {
   "cell_type": "code",
   "execution_count": null,
   "metadata": {},
   "outputs": [],
   "source": []
  }
 ],
 "metadata": {
  "kernelspec": {
   "display_name": "Python 3",
   "language": "python",
   "name": "python3"
  },
  "language_info": {
   "codemirror_mode": {
    "name": "ipython",
    "version": 3
   },
   "file_extension": ".py",
   "mimetype": "text/x-python",
   "name": "python",
   "nbconvert_exporter": "python",
   "pygments_lexer": "ipython3",
   "version": "3.11.0rc1"
  }
 },
 "nbformat": 4,
 "nbformat_minor": 2
}
